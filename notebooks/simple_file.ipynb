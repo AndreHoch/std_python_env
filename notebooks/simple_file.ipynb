{
 "cells": [
  {
   "cell_type": "markdown",
   "id": "8e370b66",
   "metadata": {},
   "source": [
    "# Simple Notebook for initial tests"
   ]
  },
  {
   "cell_type": "code",
   "execution_count": 2,
   "id": "f3260373",
   "metadata": {},
   "outputs": [
    {
     "name": "stdout",
     "output_type": "stream",
     "text": [
      "This is a new print test\n"
     ]
    }
   ],
   "source": [
    "print('This is a new print test')"
   ]
  },
  {
   "cell_type": "code",
   "execution_count": null,
   "id": "2b86ec9d",
   "metadata": {},
   "outputs": [],
   "source": []
  }
 ],
 "metadata": {
  "kernelspec": {
   "display_name": "new_std_env_313 (3.13.6)",
   "language": "python",
   "name": "python3"
  },
  "language_info": {
   "codemirror_mode": {
    "name": "ipython",
    "version": 3
   },
   "file_extension": ".py",
   "mimetype": "text/x-python",
   "name": "python",
   "nbconvert_exporter": "python",
   "pygments_lexer": "ipython3",
   "version": "3.13.6"
  }
 },
 "nbformat": 4,
 "nbformat_minor": 5
}
